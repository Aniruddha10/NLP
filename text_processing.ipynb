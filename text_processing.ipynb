{
  "nbformat": 4,
  "nbformat_minor": 0,
  "metadata": {
    "colab": {
      "name": "text processing.ipynb",
      "provenance": [],
      "collapsed_sections": []
    },
    "kernelspec": {
      "name": "python3",
      "display_name": "Python 3"
    },
    "language_info": {
      "name": "python"
    }
  },
  "cells": [
    {
      "cell_type": "code",
      "execution_count": null,
      "metadata": {
        "colab": {
          "base_uri": "https://localhost:8080/"
        },
        "id": "AdKbFj5em6e3",
        "outputId": "ad76ebf4-960a-4a7f-d18e-87475d3424ed"
      },
      "outputs": [
        {
          "output_type": "stream",
          "name": "stdout",
          "text": [
            "Author  Title           Pages\n",
            "CD      Starting Python   101\n",
            "CD1     AI & ML           201\n",
            "CD2     Data SCience      103\n"
          ]
        }
      ],
      "source": [
        "library = [['Author', 'Title', 'Pages'], ['CD', 'Starting Python', '101'], ['CD1', 'AI & ML', '201'], ['CD2', 'Data SCience', '103']]\n",
        "for l in library:\n",
        "  print(f\"{l[0]:<7} {l[1]:<15} {l[2]:>5}\")"
      ]
    },
    {
      "cell_type": "code",
      "source": [
        "with open(\"sample0703.txt\", 'a+') as newfile:\n",
        "  newfile.write(\"How are you?\\n I am fine.\\n What about you?\\n I am also fine\")"
      ],
      "metadata": {
        "id": "4crCDg3ooq49"
      },
      "execution_count": null,
      "outputs": []
    },
    {
      "cell_type": "code",
      "source": [
        "with open(\"sample0703.txt\", 'r') as newfile:\n",
        "  content = newfile.readlines()\n",
        "print(content)\n",
        "for ln in content:\n",
        "  print(ln)"
      ],
      "metadata": {
        "colab": {
          "base_uri": "https://localhost:8080/"
        },
        "id": "9LQqezWXo_-a",
        "outputId": "3a9417fe-7648-417a-a18d-f22a1d726d6f"
      },
      "execution_count": null,
      "outputs": [
        {
          "output_type": "stream",
          "name": "stdout",
          "text": [
            "['How are you?\\n', ' I am fine.\\n', ' What about you?\\n', ' I am also fineHow are you?\\n', ' I am fine.\\n', ' What about you?\\n', ' I am also fine']\n",
            "How are you?\n",
            "\n",
            " I am fine.\n",
            "\n",
            " What about you?\n",
            "\n",
            " I am also fineHow are you?\n",
            "\n",
            " I am fine.\n",
            "\n",
            " What about you?\n",
            "\n",
            " I am also fine\n"
          ]
        }
      ]
    },
    {
      "cell_type": "code",
      "source": [
        "!pip install PyPDF2"
      ],
      "metadata": {
        "colab": {
          "base_uri": "https://localhost:8080/"
        },
        "id": "qT8fHlKMWh_Q",
        "outputId": "2d372eed-6861-425a-eb31-ec3efd74d9fa"
      },
      "execution_count": null,
      "outputs": [
        {
          "output_type": "stream",
          "name": "stdout",
          "text": [
            "Requirement already satisfied: PyPDF2 in /usr/local/lib/python3.7/dist-packages (1.26.0)\n"
          ]
        }
      ]
    },
    {
      "cell_type": "code",
      "source": [
        "import PyPDF2"
      ],
      "metadata": {
        "id": "oKYaDGcMXTIX"
      },
      "execution_count": null,
      "outputs": []
    },
    {
      "cell_type": "code",
      "source": [
        "with open('./sample_data/US_Declaration.pdf', 'rb') as myfile:\n",
        "  pdfreader = PyPDF2.PdfFileReader(myfile)\n",
        "  firstpage = pdfreader.getPage(0)\n",
        "  pagecount = pdfreader.getNumPages()\n",
        "  print(pagecount)\n",
        "  for i in range(0, pagecount):\n",
        "    page = pdfreader.getPage(i)\n",
        "    content = page.extractText()\n",
        "    print(content)"
      ],
      "metadata": {
        "colab": {
          "base_uri": "https://localhost:8080/"
        },
        "id": "gdQQKo8LXhBv",
        "outputId": "c2188fbb-93a3-44c5-c5fb-4cf709d41f8c"
      },
      "execution_count": null,
      "outputs": [
        {
          "output_type": "stream",
          "name": "stdout",
          "text": [
            "5\n",
            "Declaration of IndependenceIN CONGRESS, July 4, 1776. The unanimous Declaration of the thirteen united States of America, When in the Course of human events, it becomes necessary for one people to dissolve the\n",
            "political bands which have connected them with another, and to assume among the powers of the\n",
            "earth, the separate and equal station to which the Laws of Nature and of Nature's God entitle\n",
            "\n",
            "them, a decent respect to the opinions of mankind requires that they should declare the causes\n",
            "\n",
            "which impel them to the separation. \n",
            "We hold these truths to be self-evident, that all men are created equal, that they are endowed by\n",
            "\n",
            "their Creator with certain unalienable Rights, that among these are Life, Liberty and the pursuit\n",
            "of Happiness.ŠThat to secure these rights, Governments are instituted among Men, deriving\n",
            "\n",
            "their just powers from the consent of the governed,ŠThat whenever any Form of Government\n",
            "becomes destructive of these ends, it is the Right of the People to alter or to abolish it, and to\n",
            "institute new Government, laying its foundation on such principles and organizing its powers in\n",
            "such form, as to them shall seem most likely to effect their Safety and Happiness. Prudence,\n",
            "\n",
            "indeed, will dictate that Governments long established should not be changed for light and\n",
            "transient causes; and accordingly all experience hath shewn, that mankind are more disposed to\n",
            "suffer, while evils are sufferable, than to right themselves by abolishing the forms to which they\n",
            "\n",
            "are accustomed. But when a long train of abuses and usurpations, pursuing invariably the same\n",
            "Object evinces a design to reduce them under absolute Despotism, it is their right, it is their duty,\n",
            "to throw off such Government, and to provide new Guards for their future security.ŠSuch has\n",
            "been the patient sufferance of these Colonies; and such is now the necessity which constrains\n",
            "\n",
            "them to alter their former Systems of Government. The history of the present King of Great\n",
            "\n",
            "Britain is a history of repeated injuries and usurpations, all having in direct object the\n",
            "establishment of an absolute Tyranny over these States. To prove this, let Facts be submitted to a\n",
            "candid world. He has refused his Assent to Laws, the most wholesome and necessary for the\n",
            "public good.\n",
            "He has forbidden his Governors to pass Laws of immediate and pressing\n",
            "importance, unless suspended in their operation till his Assent should be obtained;\n",
            "and when so suspended, he has utterly neglected to attend to them.\n",
            "\n",
            "He has refused to pass other Laws for the accommodation of large districts of\n",
            "people, unless those people would relinquish the right of Representation in the\n",
            "Legislature, a right inestimable to them and formidable to tyrants only. \n",
            "\n",
            "He has called together legislative bodies at places unusual, uncomfortable, and distant\n",
            "from the depository of their public Records, for the sole purpose of fatiguing them into\n",
            "compliance with his measures.\n",
            "\n",
            "He has dissolved Representative Houses repeatedly, for opposing with manlyfirmness his invasions on the rights of the people.He has refused for a long time, after such dissolutions, to cause others to beelected; whereby the Legislative powers, incapable of Annihilation, have returnedto the People at large for their exercise; the State remaining in the mean timeexposed to all the dangers of invasion from without, and convulsions within.He has endeavoured to prevent the population of these States; for that purposeobstructing the Laws for Naturalization of Foreigners; refusing to pass others toencourage their migrations hither, and raising the conditions of newAppropriations of Lands.He has obstructed the Administration of Justice, by refusing his Assent to Lawsfor establishing Judiciary powers.He has made Judges dependent on his Will alone, for the tenure of their offices,and the amount and payment of their salaries.He has erected a multitude of New Offices, and sent hither swarms of Officers toharrass our people, and eat out their substance.He has kept among us, in times of peace, Standing Armies without the Consent ofour legislatures.He has affected to render the Military independent of and superior to the Civil power.He has combined with others to subject us to a jurisdiction foreign to ourconstitution, and unacknowledged by our laws; giving his Assent to their Acts ofpretended Legislation:For Quartering large bodies of armed troops among us:For protecting them, by a mock Trial, from punishment for any Murders whichthey should commit on the Inhabitants of these States:For cutting off our Trade with all parts of the world:For imposing Taxes on us without our Consent: For depriving us in many cases,of the benefits of Trial by Jury:For transporting us beyond Seas to be tried for pretended offencesFor abolishing the free System of English Laws in a neighbouring Province,establishing therein an Arbitrary government, and enlarging its Boundaries so as\n",
            "to render it at once an example and fit instrument for introducing the sameabsolute rule into these Colonies:For taking away our Charters, abolishing our most valuable Laws, and alteringfundamentally the Forms of our Governments:For suspending our own Legislatures, and declaring themselves invested withpower to legislate for us in all cases whatsoever.He has abdicated Government here, by declaring us out of his Protection andwaging War against us.He has plundered our seas, ravaged our Coasts, burnt our towns, and destroyed thelives of our people.He is at this time transporting large Armies of foreign Mercenaries to compleatthe works of death, desolation and tyranny, already begun with circumstances ofCruelty & perfidy scarcely paralleled in the most barbarous ages, and totallyunworthy of the Head of a civilized nation.He has constrained our fellow Citizens taken Captive on the high Seas to bearArms against their Country, to become the executioners of their friends and\n",
            "Brethren, or to fall themselves by their Hands.He has excited domestic insurrections amongst us, and has endeavoured to bringon the inhabitants of our frontiers, the merciless Indian Savages, whose known\n",
            "rule of warfare, is an undistinguished destruction of all ages, sexes and conditions. In every stage of these Oppressions We have Petitioned for Redress in the most humble terms:Our repeated Petitions have been answered only by repeated injury. A Prince whose character isthus marked by every act which may define a Tyrant, is unfit to be the ruler of a free people. Nor have We been wanting in attentions to our Brittish brethren. We have warned them fromtime to time of attempts by their legislature to extend an unwarrantable jurisdiction over us. Wehave reminded them of the circumstances of our emigration and settlement here. We haveappealed to their native justice and magnanimity, and we have conjured them by the ties of ourcommon kindred to disavow these usurpations, which, would inevitably interrupt ourconnections and correspondence. They too have been deaf to the voice of justice and ofconsanguinity. We must, therefore, acquiesce in the necessity, which denounces our Separation,and hold them, as we hold the rest of mankind, Enemies in War, in Peace Friends. We, therefore, the Representatives of the united States of America, in General Congress,Assembled, appealing to the Supreme Judge of the world for the rectitude of our intentions, do,in the Name, and by Authority of the good People of these Colonies, solemnly publish anddeclare, That these United Colonies are, and of Right ought to be Free and Independent States;that they are Absolved from all Allegiance to the British Crown, and that all political connection\n",
            "between them and the State of Great Britain, is and ought to be totally dissolved; and that as Free\n",
            "\n",
            "and Independent States, they have full Power to levy War, conclude Peace, contract Alliances,\n",
            "establish Commerce, and to do all other Acts and Things which Independent States may of right\n",
            "\n",
            "do. And for the support of this Declaration, with a firm reliance on the protection of divine\n",
            "Providence, we mutually pledge to each other our Lives, our Fortunes and our sacred Honor.\n",
            "\n",
            "[The 56 signatures on the Declaration were arranged in six columns:\n",
            "] [Column 1]\n",
            " Georgia:   Button Gwinnett\n",
            "   Lyman \n",
            "Hall   George Walton \n",
            "[Column 2]\n",
            " North Carolina:   William Hooper\n",
            "   Joseph Hewes\n",
            "   John Penn\n",
            " South Carolina:   Edward Ru\n",
            "tledge   Thomas Heyward, Jr.\n",
            "  Thomas Lynch, Jr.\n",
            "  Arthur Middleton \n",
            "[Column 3]\n",
            " Massachusetts:   John Hancock\n",
            "\n",
            " Maryland:   Samuel Chase\n",
            "\n",
            "   William Paca\n",
            "\n",
            "   Thomas Stone\n",
            "\n",
            "   Charles Carroll of Carrollton\n",
            "\n",
            " Virginia:   George Wythe\n",
            "\n",
            "   Richard Henry Lee\n",
            "\n",
            "   Thomas Jefferson\n",
            "\n",
            "   Benjamin Harrison\n",
            "\n",
            "   Thomas Nelson, Jr.\n",
            "\n",
            "   Francis Lightfoot Lee\n",
            "\n",
            "   Carter Braxton \n",
            "\n",
            "[Column 4]\n",
            " Pennsylvania:  Robert Morris\n",
            "\n",
            "   Benjamin Rush\n",
            "   Benjamin Fran\n",
            "klin   John Morton\n",
            "\n",
            "   George Clymer\n",
            "   James Smith\n",
            "   George Taylor\n",
            "   James Wilson\n",
            "   George Ross\n",
            " Delaware:   Caesar Rodney\n",
            "   George Read\n",
            "   Thomas McKean \n",
            "[Column 5]\n",
            " New York:   Wi\n",
            "lliam Floyd   Philip Livingston\n",
            "   Francis L\n",
            "ewis   Lewis Morris\n",
            " New Jersey:   Richard Stockton\n",
            "   John Witherspoon\n",
            "   Francis Hopkinson\n",
            "   John Hart\n",
            "   Abraham Clark \n",
            "[Column 6]\n",
            " New Hampshire:   Josiah Bartlett\n",
            "   William Whipple\n",
            " Massachusetts:   Samuel Adams\n",
            "   John Adams\n",
            "   Robert Treat Paine\n",
            "   Elbridge Gerry\n",
            " Rhode Island:   Stephen Hopkins\n",
            "   William Ellery\n",
            " Connecticut:   Roger Sherman\n",
            "   Samuel Huntington\n",
            "   William Williams\n",
            "   Oliver Wolcott\n",
            " New Hampshire: Matthew Thornton\n",
            " \n"
          ]
        }
      ]
    },
    {
      "cell_type": "code",
      "source": [
        "with open(\"newdocument.pdf\", 'wb') as pdf_output:\n",
        "  pdf_writer = PyPDF2.PdfFileWriter()\n",
        "  pdf_writer.addPage(firstpage)\n",
        "  pdf_writer.write(pdf_output)"
      ],
      "metadata": {
        "id": "0-O4EBZrbzHx"
      },
      "execution_count": null,
      "outputs": []
    },
    {
      "cell_type": "code",
      "source": [
        "with open('newdocument.pdf', 'rb') as myfile:\n",
        "  pdfreader = PyPDF2.PdfFileReader(myfile)\n",
        "  pagecount = pdfreader.getNumPages()\n",
        "  print(pagecount)\n",
        "  for i in range(0, pagecount):\n",
        "    page = pdfreader.getPage(i)\n",
        "    content = page.extractText()\n",
        "    print(content)"
      ],
      "metadata": {
        "colab": {
          "base_uri": "https://localhost:8080/"
        },
        "id": "kfH7O2Fgcso0",
        "outputId": "8101fac6-09c9-4b67-b776-409910ad6dfc"
      },
      "execution_count": null,
      "outputs": [
        {
          "output_type": "stream",
          "name": "stdout",
          "text": [
            "1\n",
            "Declaration of IndependenceIN CONGRESS, July 4, 1776. The unanimous Declaration of the thirteen united States of America, When in the Course of human events, it becomes necessary for one people to dissolve the\n",
            "political bands which have connected them with another, and to assume among the powers of the\n",
            "earth, the separate and equal station to which the Laws of Nature and of Nature's God entitle\n",
            "\n",
            "them, a decent respect to the opinions of mankind requires that they should declare the causes\n",
            "\n",
            "which impel them to the separation. \n",
            "We hold these truths to be self-evident, that all men are created equal, that they are endowed by\n",
            "\n",
            "their Creator with certain unalienable Rights, that among these are Life, Liberty and the pursuit\n",
            "of Happiness.ŠThat to secure these rights, Governments are instituted among Men, deriving\n",
            "\n",
            "their just powers from the consent of the governed,ŠThat whenever any Form of Government\n",
            "becomes destructive of these ends, it is the Right of the People to alter or to abolish it, and to\n",
            "institute new Government, laying its foundation on such principles and organizing its powers in\n",
            "such form, as to them shall seem most likely to effect their Safety and Happiness. Prudence,\n",
            "\n",
            "indeed, will dictate that Governments long established should not be changed for light and\n",
            "transient causes; and accordingly all experience hath shewn, that mankind are more disposed to\n",
            "suffer, while evils are sufferable, than to right themselves by abolishing the forms to which they\n",
            "\n",
            "are accustomed. But when a long train of abuses and usurpations, pursuing invariably the same\n",
            "Object evinces a design to reduce them under absolute Despotism, it is their right, it is their duty,\n",
            "to throw off such Government, and to provide new Guards for their future security.ŠSuch has\n",
            "been the patient sufferance of these Colonies; and such is now the necessity which constrains\n",
            "\n",
            "them to alter their former Systems of Government. The history of the present King of Great\n",
            "\n",
            "Britain is a history of repeated injuries and usurpations, all having in direct object the\n",
            "establishment of an absolute Tyranny over these States. To prove this, let Facts be submitted to a\n",
            "candid world. He has refused his Assent to Laws, the most wholesome and necessary for the\n",
            "public good.\n",
            "He has forbidden his Governors to pass Laws of immediate and pressing\n",
            "importance, unless suspended in their operation till his Assent should be obtained;\n",
            "and when so suspended, he has utterly neglected to attend to them.\n",
            "\n",
            "He has refused to pass other Laws for the accommodation of large districts of\n",
            "people, unless those people would relinquish the right of Representation in the\n",
            "Legislature, a right inestimable to them and formidable to tyrants only. \n",
            "\n",
            "He has called together legislative bodies at places unusual, uncomfortable, and distant\n",
            "from the depository of their public Records, for the sole purpose of fatiguing them into\n",
            "compliance with his measures.\n",
            "\n"
          ]
        }
      ]
    },
    {
      "cell_type": "code",
      "source": [
        "import re"
      ],
      "metadata": {
        "id": "XrRTerN-om34"
      },
      "execution_count": null,
      "outputs": []
    },
    {
      "cell_type": "code",
      "source": [
        "\n",
        "text = \"My Phone number is 222-345-1234\"\n",
        "pattern = r'\\d\\d\\d-\\d\\d\\d-\\d\\d\\d\\d'\n",
        "match = re.search(pattern, text)\n",
        "match\n",
        "print(match.span())\n",
        "print(match.group())"
      ],
      "metadata": {
        "colab": {
          "base_uri": "https://localhost:8080/"
        },
        "id": "SrlmtwYGo-W1",
        "outputId": "d2b02a80-c9fb-452e-c44a-ca869b73817a"
      },
      "execution_count": null,
      "outputs": [
        {
          "output_type": "stream",
          "name": "stdout",
          "text": [
            "(19, 31)\n",
            "222-345-1234\n"
          ]
        }
      ]
    },
    {
      "cell_type": "code",
      "source": [
        "pattern = r'\\d{3}-\\d{3}-\\d{4}'\n",
        "text1 = \"My Phone number is 222-345-1234 and her is 888-456-1234\"\n",
        "print(text1)\n",
        "match = re.findall(pattern, text1)\n",
        "print(match)\n",
        "for match in re.finditer(pattern, text1):\n",
        "  print(match.span(), match.group())"
      ],
      "metadata": {
        "colab": {
          "base_uri": "https://localhost:8080/"
        },
        "id": "abee1yuupn-6",
        "outputId": "42f80b52-26b1-44b1-b184-efce211aa2b1"
      },
      "execution_count": null,
      "outputs": [
        {
          "output_type": "stream",
          "name": "stdout",
          "text": [
            "My Phone number is 222-345-1234 and her is 888-456-1234\n",
            "['222-345-1234', '888-456-1234']\n",
            "(19, 31) 222-345-1234\n",
            "(43, 55) 888-456-1234\n"
          ]
        }
      ]
    },
    {
      "cell_type": "code",
      "source": [
        "pattern = r'(\\d{3})-(\\d{3})-(\\d{4})'\n",
        "text1 = \"My Phone number is 222-345-1234 and her is 888-456-1234\"\n",
        "print(text1)\n",
        "match = re.findall(pattern, text1)\n",
        "print(match)\n",
        "for match in re.finditer(pattern, text1):\n",
        "  print(match.span(), match.group(1), match.group(2), match.group(3))"
      ],
      "metadata": {
        "colab": {
          "base_uri": "https://localhost:8080/"
        },
        "id": "CSG285J_SL4v",
        "outputId": "c82ee94b-534f-4380-a19c-b72b1d7571d3"
      },
      "execution_count": null,
      "outputs": [
        {
          "output_type": "stream",
          "name": "stdout",
          "text": [
            "My Phone number is 222-345-1234 and her is 888-456-1234\n",
            "[('222', '345', '1234'), ('888', '456', '1234')]\n",
            "(19, 31) 222 345 1234\n",
            "(43, 55) 888 456 1234\n"
          ]
        }
      ]
    },
    {
      "cell_type": "code",
      "source": [
        "text = \"He is a man, she is a woman\"\n",
        "pattern = r\"man|woman\"\n",
        "match = re.findall(pattern, text)\n",
        "print(match)"
      ],
      "metadata": {
        "colab": {
          "base_uri": "https://localhost:8080/"
        },
        "id": "orPEFGgyS7RU",
        "outputId": "ec89e007-b792-486b-8e44-10f6d29d57b9"
      },
      "execution_count": null,
      "outputs": [
        {
          "output_type": "stream",
          "name": "stdout",
          "text": [
            "['man', 'woman']\n"
          ]
        }
      ]
    },
    {
      "cell_type": "code",
      "source": [
        "text = \"the cat in the hat sat then playing with bat splat\"\n",
        "pattern = \".at\"\n",
        "match = re.findall(pattern, text)\n",
        "print(match)"
      ],
      "metadata": {
        "colab": {
          "base_uri": "https://localhost:8080/"
        },
        "id": "-PW2q79DTbyN",
        "outputId": "29eda2c6-0731-49d1-9dcb-13fa2ac464db"
      },
      "execution_count": null,
      "outputs": [
        {
          "output_type": "stream",
          "name": "stdout",
          "text": [
            "['cat', 'hat', 'sat', 'bat', 'lat']\n"
          ]
        }
      ]
    },
    {
      "cell_type": "code",
      "source": [
        "text = \"1 is the lonliest and the Only even prime is 2 but what is 3\"\n",
        "pattern = \"^\\d|\\d$\"\n",
        "match = re.findall(pattern, text)\n",
        "print(match)"
      ],
      "metadata": {
        "colab": {
          "base_uri": "https://localhost:8080/"
        },
        "id": "4cqg9lMlT_Qe",
        "outputId": "9d1d0279-e46d-40d0-c3ee-04bfc863de06"
      },
      "execution_count": null,
      "outputs": [
        {
          "output_type": "stream",
          "name": "stdout",
          "text": [
            "['1', '3']\n"
          ]
        }
      ]
    },
    {
      "cell_type": "code",
      "source": [
        "text = \"1 is the lonliest and the Only even prime is 2 but what is 3\"\n",
        "pattern = \"[^\\d]+\"\n",
        "excluded = re.findall(pattern, text)\n",
        "print(excluded)"
      ],
      "metadata": {
        "colab": {
          "base_uri": "https://localhost:8080/"
        },
        "id": "ocrjPM7DU-R9",
        "outputId": "1efa7897-275e-41fc-8de1-a00bfbc522eb"
      },
      "execution_count": null,
      "outputs": [
        {
          "output_type": "stream",
          "name": "stdout",
          "text": [
            "[' is the lonliest and the Only even prime is ', ' but what is ']\n"
          ]
        }
      ]
    },
    {
      "cell_type": "code",
      "source": [
        "text = \"1 is the lonliest, and the Only even prime is 2!!! but what is 3?\"\n",
        "pattern = \"[^,!?]\"\n",
        "excluded = re.findall(pattern, text)\n",
        "print(excluded)\n",
        "print(''.join(excluded))"
      ],
      "metadata": {
        "colab": {
          "base_uri": "https://localhost:8080/"
        },
        "id": "U38CnLZLca1I",
        "outputId": "269d7e79-2f48-4cae-9308-9adea2796cb6"
      },
      "execution_count": null,
      "outputs": [
        {
          "output_type": "stream",
          "name": "stdout",
          "text": [
            "['1', ' ', 'i', 's', ' ', 't', 'h', 'e', ' ', 'l', 'o', 'n', 'l', 'i', 'e', 's', 't', ' ', 'a', 'n', 'd', ' ', 't', 'h', 'e', ' ', 'O', 'n', 'l', 'y', ' ', 'e', 'v', 'e', 'n', ' ', 'p', 'r', 'i', 'm', 'e', ' ', 'i', 's', ' ', '2', ' ', 'b', 'u', 't', ' ', 'w', 'h', 'a', 't', ' ', 'i', 's', ' ', '3']\n",
            "1 is the lonliest and the Only even prime is 2 but what is 3\n"
          ]
        }
      ]
    },
    {
      "cell_type": "code",
      "source": [
        "text = \"Only the hyphen-words. Were are the long-ish dash words?\"\n",
        "pattern = \"[\\w]+-[\\w]+\"\n",
        "excluded = re.findall(pattern, text)\n",
        "print(excluded)\n",
        "print(''.join(excluded))"
      ],
      "metadata": {
        "colab": {
          "base_uri": "https://localhost:8080/"
        },
        "id": "Y-KpHs_zfcj1",
        "outputId": "c48a46b2-5972-4160-9af9-a149e23a1e95"
      },
      "execution_count": null,
      "outputs": [
        {
          "output_type": "stream",
          "name": "stdout",
          "text": [
            "['hyphen-words', 'long-ish']\n",
            "hyphen-wordslong-ish\n"
          ]
        }
      ]
    },
    {
      "cell_type": "code",
      "source": [
        "text = \"My Zip code was N2H2HX\"\n",
        "pattern = \"\\w\\d\\w\\d\\w{2}\"\n",
        "excluded = re.findall(pattern, text)\n",
        "print(excluded)"
      ],
      "metadata": {
        "colab": {
          "base_uri": "https://localhost:8080/"
        },
        "id": "wLB2k6djiQO6",
        "outputId": "929d3bc4-6fc9-4faa-a64c-26d502681ca0"
      },
      "execution_count": null,
      "outputs": [
        {
          "output_type": "stream",
          "name": "stdout",
          "text": [
            "['N2H2HX']\n"
          ]
        }
      ]
    },
    {
      "cell_type": "code",
      "source": [
        "abbr = 'NLP'\n",
        "full_text = 'Natural Language Processing'\n",
        "print(f\"{abbr} stands for {full_text}\")"
      ],
      "metadata": {
        "colab": {
          "base_uri": "https://localhost:8080/"
        },
        "id": "uTfsJr0JmlJo",
        "outputId": "a8f9e1ba-1396-4b3f-a015-aa336e1c127c"
      },
      "execution_count": null,
      "outputs": [
        {
          "output_type": "stream",
          "name": "stdout",
          "text": [
            "NLP stands for Natural Language Processing\n"
          ]
        }
      ]
    },
    {
      "cell_type": "code",
      "source": [
        "%%writefile contacts.txt\n",
        "First_Name Last_Name, Title, Extension, Email"
      ],
      "metadata": {
        "colab": {
          "base_uri": "https://localhost:8080/"
        },
        "id": "5vDo9UpGm1yr",
        "outputId": "d7fb37b9-05a3-4092-c63d-1b18645c1b99"
      },
      "execution_count": null,
      "outputs": [
        {
          "output_type": "stream",
          "name": "stdout",
          "text": [
            "Overwriting contacts.txt\n"
          ]
        }
      ]
    },
    {
      "cell_type": "code",
      "source": [
        "with open(\"contacts.txt\") as f:\n",
        "  fields = f.read()\n",
        "\n",
        "fields"
      ],
      "metadata": {
        "colab": {
          "base_uri": "https://localhost:8080/",
          "height": 35
        },
        "id": "HJ3qVr24nXCB",
        "outputId": "0485e6b7-9872-405a-a8b2-18bbb37b99ba"
      },
      "execution_count": null,
      "outputs": [
        {
          "output_type": "execute_result",
          "data": {
            "application/vnd.google.colaboratory.intrinsic+json": {
              "type": "string"
            },
            "text/plain": [
              "'First_Name Last_Name, Title, Extension, Email'"
            ]
          },
          "metadata": {},
          "execution_count": 110
        }
      ]
    },
    {
      "cell_type": "code",
      "source": [
        "import PyPDF2"
      ],
      "metadata": {
        "id": "V9RLof-KpUXR"
      },
      "execution_count": null,
      "outputs": []
    },
    {
      "cell_type": "code",
      "source": [
        "with open(\"./sample_data/Business_Proposal.pdf\", 'rb') as f:\n",
        "  pdfreader = PyPDF2.PdfFileReader(f)\n",
        "  pagecount = pdfreader.getNumPages()\n",
        "  content2 = pdfreader.getPage(1).extractText()\n",
        "  print(content2)\n",
        "  print(pagecount)"
      ],
      "metadata": {
        "colab": {
          "base_uri": "https://localhost:8080/"
        },
        "id": "ZhB8wi1nnrrp",
        "outputId": "b515f817-0eb4-4d3d-c9d4-344671d04d43"
      },
      "execution_count": null,
      "outputs": [
        {
          "output_type": "stream",
          "name": "stdout",
          "text": [
            "AUTHORS:\n",
            " \n",
            "Amy Baker, Finance Chair, x345, abaker@ourcompany.com\n",
            " \n",
            "Chris Donaldson, Accounting Dir., x621, cdonaldson@ourcompany.com\n",
            " \n",
            "Erin Freeman, Sr. VP, x879, efreeman@ourcompany.com\n",
            " \n",
            "\n",
            "2\n"
          ]
        }
      ]
    },
    {
      "cell_type": "code",
      "source": [
        "with open(\"contacts.txt\", 'a+') as f:\n",
        "  f.write(content2)"
      ],
      "metadata": {
        "id": "kgFX6EUuq50p"
      },
      "execution_count": null,
      "outputs": []
    },
    {
      "cell_type": "code",
      "source": [
        "with open(\"contacts.txt\", 'r') as f:\n",
        "  print(f.read())"
      ],
      "metadata": {
        "colab": {
          "base_uri": "https://localhost:8080/"
        },
        "id": "4pNmLNCQriDl",
        "outputId": "b330b3fe-0a58-4e5f-cea7-9b744f684bb3"
      },
      "execution_count": null,
      "outputs": [
        {
          "output_type": "stream",
          "name": "stdout",
          "text": [
            "First_Name Last_Name, Title, Extension, EmailAUTHORS:\n",
            " \n",
            "Amy Baker, Finance Chair, x345, abaker@ourcompany.com\n",
            " \n",
            "Chris Donaldson, Accounting Dir., x621, cdonaldson@ourcompany.com\n",
            " \n",
            "Erin Freeman, Sr. VP, x879, efreeman@ourcompany.com\n",
            " \n",
            "\n"
          ]
        }
      ]
    },
    {
      "cell_type": "code",
      "source": [
        "print(content2)\n",
        "pattern = r'\\b[A-Za-z0-9._%+-]+@[A-Za-z0-9.-]+\\.[A-Z|a-z]{2,}\\b'\n",
        "match = re.finditer(pattern, content2)\n",
        "for i in match:\n",
        "  print(i.group())"
      ],
      "metadata": {
        "colab": {
          "base_uri": "https://localhost:8080/"
        },
        "id": "uqroEdD6r3bV",
        "outputId": "30c8b6a0-eecc-4cc8-9e30-0583b42bae1d"
      },
      "execution_count": null,
      "outputs": [
        {
          "output_type": "stream",
          "name": "stdout",
          "text": [
            "AUTHORS:\n",
            " \n",
            "Amy Baker, Finance Chair, x345, abaker@ourcompany.com\n",
            " \n",
            "Chris Donaldson, Accounting Dir., x621, cdonaldson@ourcompany.com\n",
            " \n",
            "Erin Freeman, Sr. VP, x879, efreeman@ourcompany.com\n",
            " \n",
            "\n",
            "abaker@ourcompany.com\n",
            "cdonaldson@ourcompany.com\n",
            "efreeman@ourcompany.com\n"
          ]
        }
      ]
    }
  ]
}